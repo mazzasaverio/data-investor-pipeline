{
 "cells": [
  {
   "cell_type": "code",
   "execution_count": 5,
   "metadata": {},
   "outputs": [
    {
     "name": "stderr",
     "output_type": "stream",
     "text": [
      "\u001b[32m2023-10-17 22:43:12.512\u001b[0m | \u001b[1mINFO    \u001b[0m | \u001b[36mcommon.config\u001b[0m:\u001b[36m<module>\u001b[0m:\u001b[36m17\u001b[0m - \u001b[1mSuccessfully loaded environment variables.\u001b[0m\n"
     ]
    }
   ],
   "source": [
    "from typing import Union, List, Tuple\n",
    "import pandas as pd\n",
    "import numpy as np\n",
    "from loguru import logger  # Using Loguru for logging\n",
    "from common.config import FMP_API_KEY\n",
    "\n",
    "try:\n",
    "    from tqdm import tqdm\n",
    "\n",
    "    ENABLE_TQDM = True\n",
    "except ImportError:\n",
    "    ENABLE_TQDM = False"
   ]
  },
  {
   "cell_type": "code",
   "execution_count": 6,
   "metadata": {},
   "outputs": [],
   "source": [
    "tickers = [\"AAPL\"]\n",
    "statement = \"cashflow\"\n",
    "api_key = FMP_API_KEY\n",
    "quarter = True\n",
    "start_date = \"2000-01-01\"\n",
    "end_date = None\n",
    "rounding = 4\n",
    "progress_bar = True"
   ]
  },
  {
   "cell_type": "code",
   "execution_count": 2,
   "metadata": {},
   "outputs": [],
   "source": [
    "ticker = \"AAPL\""
   ]
  },
  {
   "cell_type": "code",
   "execution_count": 7,
   "metadata": {},
   "outputs": [],
   "source": [
    "url = f\"https://financialmodelingprep.com/api/v3/historical-market-capitalization/{ticker}?&apikey={api_key}\"\n",
    "df_marketcap = pd.DataFrame()\n",
    "data_mod = pd.read_json(url)\n",
    "data_mod = pd.DataFrame(data_mod)\n",
    "data_mod[\"date\"] = pd.to_datetime(data_mod[\"date\"])\n",
    "\n",
    "data_mod = data_mod[data_mod[\"date\"] > start_date]\n",
    "df_marketcap = pd.concat([df_marketcap, data_mod], ignore_index=True)"
   ]
  },
  {
   "cell_type": "code",
   "execution_count": null,
   "metadata": {},
   "outputs": [],
   "source": []
  },
  {
   "cell_type": "code",
   "execution_count": 7,
   "metadata": {},
   "outputs": [],
   "source": [
    "base_url = \"https://financialmodelingprep.com/api/v3/historical-price-full/\"\n",
    "url = f\"{base_url}{ticker}?from=2000-01-01&to=2022-01-01&apikey={api_key}\""
   ]
  },
  {
   "cell_type": "code",
   "execution_count": 8,
   "metadata": {},
   "outputs": [],
   "source": [
    "data_mod = pd.read_json(url)"
   ]
  },
  {
   "cell_type": "code",
   "execution_count": 16,
   "metadata": {},
   "outputs": [],
   "source": []
  },
  {
   "cell_type": "code",
   "execution_count": 19,
   "metadata": {},
   "outputs": [
    {
     "name": "stdout",
     "output_type": "stream",
     "text": [
      "<class 'pandas.core.frame.DataFrame'>\n",
      "RangeIndex: 5536 entries, 0 to 5535\n",
      "Data columns (total 14 columns):\n",
      " #   Column            Non-Null Count  Dtype  \n",
      "---  ------            --------------  -----  \n",
      " 0   symbol            5536 non-null   object \n",
      " 1   date              5536 non-null   object \n",
      " 2   open              5536 non-null   float64\n",
      " 3   high              5536 non-null   float64\n",
      " 4   low               5536 non-null   float64\n",
      " 5   close             5536 non-null   float64\n",
      " 6   adjClose          5536 non-null   float64\n",
      " 7   volume            5536 non-null   int64  \n",
      " 8   unadjustedVolume  5536 non-null   int64  \n",
      " 9   change            5536 non-null   float64\n",
      " 10  changePercent     5536 non-null   float64\n",
      " 11  vwap              5536 non-null   float64\n",
      " 12  label             5536 non-null   object \n",
      " 13  changeOverTime    5536 non-null   float64\n",
      "dtypes: float64(9), int64(2), object(3)\n",
      "memory usage: 605.6+ KB\n"
     ]
    }
   ],
   "source": [
    "base_url = \"https://financialmodelingprep.com/api/v3/historical-price-full/\"\n",
    "url = f\"{base_url}{ticker}?from=2000-01-01&to=2022-01-01&apikey={api_key}\"\n",
    "\n",
    "df_price = pd.read_json(url)\n",
    "# Create a DataFrame from the sample data\n",
    "df = pd.DataFrame(df_price)\n",
    "\n",
    "# Explode the 'historical' dictionary into separate columns\n",
    "exploded_df = df[\"historical\"].apply(pd.Series)\n",
    "\n",
    "# Combine the exploded DataFrame with the original 'symbol' column\n",
    "final_df = pd.concat([df[\"symbol\"], exploded_df], axis=1)"
   ]
  },
  {
   "cell_type": "code",
   "execution_count": null,
   "metadata": {},
   "outputs": [],
   "source": []
  },
  {
   "cell_type": "code",
   "execution_count": null,
   "metadata": {},
   "outputs": [],
   "source": []
  },
  {
   "cell_type": "code",
   "execution_count": 15,
   "metadata": {},
   "outputs": [
    {
     "data": {
      "text/plain": [
       "0       {'date': '2021-12-31', 'open': 178.09, 'high':...\n",
       "1       {'date': '2021-12-30', 'open': 179.47, 'high':...\n",
       "2       {'date': '2021-12-29', 'open': 179.33, 'high':...\n",
       "3       {'date': '2021-12-28', 'open': 180.16, 'high':...\n",
       "4       {'date': '2021-12-27', 'open': 177.09, 'high':...\n",
       "                              ...                        \n",
       "5531    {'date': '2000-01-07', 'open': 0.8616100000000...\n",
       "5532    {'date': '2000-01-06', 'open': 0.9475500000000...\n",
       "5533    {'date': '2000-01-05', 'open': 0.92634, 'high'...\n",
       "5534    {'date': '2000-01-04', 'open': 0.96652, 'high'...\n",
       "5535    {'date': '2000-01-03', 'open': 0.9363800000000...\n",
       "Name: historical, Length: 5536, dtype: object"
      ]
     },
     "execution_count": 15,
     "metadata": {},
     "output_type": "execute_result"
    }
   ],
   "source": [
    "df_price[\"historical\"]"
   ]
  },
  {
   "cell_type": "code",
   "execution_count": null,
   "metadata": {},
   "outputs": [],
   "source": []
  },
  {
   "cell_type": "code",
   "execution_count": 11,
   "metadata": {},
   "outputs": [],
   "source": [
    "data_mod = pd.DataFrame(df_price[\"historical\"])\n",
    "data_mod[\"symbol\"] = df_price[\"symbol\"]"
   ]
  },
  {
   "cell_type": "code",
   "execution_count": 12,
   "metadata": {},
   "outputs": [
    {
     "data": {
      "text/html": [
       "<div>\n",
       "<style scoped>\n",
       "    .dataframe tbody tr th:only-of-type {\n",
       "        vertical-align: middle;\n",
       "    }\n",
       "\n",
       "    .dataframe tbody tr th {\n",
       "        vertical-align: top;\n",
       "    }\n",
       "\n",
       "    .dataframe thead th {\n",
       "        text-align: right;\n",
       "    }\n",
       "</style>\n",
       "<table border=\"1\" class=\"dataframe\">\n",
       "  <thead>\n",
       "    <tr style=\"text-align: right;\">\n",
       "      <th></th>\n",
       "      <th>historical</th>\n",
       "      <th>symbol</th>\n",
       "    </tr>\n",
       "  </thead>\n",
       "  <tbody>\n",
       "    <tr>\n",
       "      <th>0</th>\n",
       "      <td>{'date': '2021-12-31', 'open': 178.09, 'high':...</td>\n",
       "      <td>AAPL</td>\n",
       "    </tr>\n",
       "    <tr>\n",
       "      <th>1</th>\n",
       "      <td>{'date': '2021-12-30', 'open': 179.47, 'high':...</td>\n",
       "      <td>AAPL</td>\n",
       "    </tr>\n",
       "    <tr>\n",
       "      <th>2</th>\n",
       "      <td>{'date': '2021-12-29', 'open': 179.33, 'high':...</td>\n",
       "      <td>AAPL</td>\n",
       "    </tr>\n",
       "    <tr>\n",
       "      <th>3</th>\n",
       "      <td>{'date': '2021-12-28', 'open': 180.16, 'high':...</td>\n",
       "      <td>AAPL</td>\n",
       "    </tr>\n",
       "    <tr>\n",
       "      <th>4</th>\n",
       "      <td>{'date': '2021-12-27', 'open': 177.09, 'high':...</td>\n",
       "      <td>AAPL</td>\n",
       "    </tr>\n",
       "    <tr>\n",
       "      <th>...</th>\n",
       "      <td>...</td>\n",
       "      <td>...</td>\n",
       "    </tr>\n",
       "    <tr>\n",
       "      <th>5531</th>\n",
       "      <td>{'date': '2000-01-07', 'open': 0.8616100000000...</td>\n",
       "      <td>AAPL</td>\n",
       "    </tr>\n",
       "    <tr>\n",
       "      <th>5532</th>\n",
       "      <td>{'date': '2000-01-06', 'open': 0.9475500000000...</td>\n",
       "      <td>AAPL</td>\n",
       "    </tr>\n",
       "    <tr>\n",
       "      <th>5533</th>\n",
       "      <td>{'date': '2000-01-05', 'open': 0.92634, 'high'...</td>\n",
       "      <td>AAPL</td>\n",
       "    </tr>\n",
       "    <tr>\n",
       "      <th>5534</th>\n",
       "      <td>{'date': '2000-01-04', 'open': 0.96652, 'high'...</td>\n",
       "      <td>AAPL</td>\n",
       "    </tr>\n",
       "    <tr>\n",
       "      <th>5535</th>\n",
       "      <td>{'date': '2000-01-03', 'open': 0.9363800000000...</td>\n",
       "      <td>AAPL</td>\n",
       "    </tr>\n",
       "  </tbody>\n",
       "</table>\n",
       "<p>5536 rows × 2 columns</p>\n",
       "</div>"
      ],
      "text/plain": [
       "                                             historical symbol\n",
       "0     {'date': '2021-12-31', 'open': 178.09, 'high':...   AAPL\n",
       "1     {'date': '2021-12-30', 'open': 179.47, 'high':...   AAPL\n",
       "2     {'date': '2021-12-29', 'open': 179.33, 'high':...   AAPL\n",
       "3     {'date': '2021-12-28', 'open': 180.16, 'high':...   AAPL\n",
       "4     {'date': '2021-12-27', 'open': 177.09, 'high':...   AAPL\n",
       "...                                                 ...    ...\n",
       "5531  {'date': '2000-01-07', 'open': 0.8616100000000...   AAPL\n",
       "5532  {'date': '2000-01-06', 'open': 0.9475500000000...   AAPL\n",
       "5533  {'date': '2000-01-05', 'open': 0.92634, 'high'...   AAPL\n",
       "5534  {'date': '2000-01-04', 'open': 0.96652, 'high'...   AAPL\n",
       "5535  {'date': '2000-01-03', 'open': 0.9363800000000...   AAPL\n",
       "\n",
       "[5536 rows x 2 columns]"
      ]
     },
     "execution_count": 12,
     "metadata": {},
     "output_type": "execute_result"
    }
   ],
   "source": [
    "data_mod"
   ]
  },
  {
   "cell_type": "code",
   "execution_count": 10,
   "metadata": {},
   "outputs": [
    {
     "data": {
      "text/html": [
       "<div>\n",
       "<style scoped>\n",
       "    .dataframe tbody tr th:only-of-type {\n",
       "        vertical-align: middle;\n",
       "    }\n",
       "\n",
       "    .dataframe tbody tr th {\n",
       "        vertical-align: top;\n",
       "    }\n",
       "\n",
       "    .dataframe thead th {\n",
       "        text-align: right;\n",
       "    }\n",
       "</style>\n",
       "<table border=\"1\" class=\"dataframe\">\n",
       "  <thead>\n",
       "    <tr style=\"text-align: right;\">\n",
       "      <th></th>\n",
       "      <th>symbol</th>\n",
       "      <th>historical</th>\n",
       "    </tr>\n",
       "  </thead>\n",
       "  <tbody>\n",
       "    <tr>\n",
       "      <th>0</th>\n",
       "      <td>AAPL</td>\n",
       "      <td>{'date': '2021-12-31', 'open': 178.09, 'high':...</td>\n",
       "    </tr>\n",
       "    <tr>\n",
       "      <th>1</th>\n",
       "      <td>AAPL</td>\n",
       "      <td>{'date': '2021-12-30', 'open': 179.47, 'high':...</td>\n",
       "    </tr>\n",
       "    <tr>\n",
       "      <th>2</th>\n",
       "      <td>AAPL</td>\n",
       "      <td>{'date': '2021-12-29', 'open': 179.33, 'high':...</td>\n",
       "    </tr>\n",
       "    <tr>\n",
       "      <th>3</th>\n",
       "      <td>AAPL</td>\n",
       "      <td>{'date': '2021-12-28', 'open': 180.16, 'high':...</td>\n",
       "    </tr>\n",
       "    <tr>\n",
       "      <th>4</th>\n",
       "      <td>AAPL</td>\n",
       "      <td>{'date': '2021-12-27', 'open': 177.09, 'high':...</td>\n",
       "    </tr>\n",
       "    <tr>\n",
       "      <th>...</th>\n",
       "      <td>...</td>\n",
       "      <td>...</td>\n",
       "    </tr>\n",
       "    <tr>\n",
       "      <th>5531</th>\n",
       "      <td>AAPL</td>\n",
       "      <td>{'date': '2000-01-07', 'open': 0.8616100000000...</td>\n",
       "    </tr>\n",
       "    <tr>\n",
       "      <th>5532</th>\n",
       "      <td>AAPL</td>\n",
       "      <td>{'date': '2000-01-06', 'open': 0.9475500000000...</td>\n",
       "    </tr>\n",
       "    <tr>\n",
       "      <th>5533</th>\n",
       "      <td>AAPL</td>\n",
       "      <td>{'date': '2000-01-05', 'open': 0.92634, 'high'...</td>\n",
       "    </tr>\n",
       "    <tr>\n",
       "      <th>5534</th>\n",
       "      <td>AAPL</td>\n",
       "      <td>{'date': '2000-01-04', 'open': 0.96652, 'high'...</td>\n",
       "    </tr>\n",
       "    <tr>\n",
       "      <th>5535</th>\n",
       "      <td>AAPL</td>\n",
       "      <td>{'date': '2000-01-03', 'open': 0.9363800000000...</td>\n",
       "    </tr>\n",
       "  </tbody>\n",
       "</table>\n",
       "<p>5536 rows × 2 columns</p>\n",
       "</div>"
      ],
      "text/plain": [
       "     symbol                                         historical\n",
       "0      AAPL  {'date': '2021-12-31', 'open': 178.09, 'high':...\n",
       "1      AAPL  {'date': '2021-12-30', 'open': 179.47, 'high':...\n",
       "2      AAPL  {'date': '2021-12-29', 'open': 179.33, 'high':...\n",
       "3      AAPL  {'date': '2021-12-28', 'open': 180.16, 'high':...\n",
       "4      AAPL  {'date': '2021-12-27', 'open': 177.09, 'high':...\n",
       "...     ...                                                ...\n",
       "5531   AAPL  {'date': '2000-01-07', 'open': 0.8616100000000...\n",
       "5532   AAPL  {'date': '2000-01-06', 'open': 0.9475500000000...\n",
       "5533   AAPL  {'date': '2000-01-05', 'open': 0.92634, 'high'...\n",
       "5534   AAPL  {'date': '2000-01-04', 'open': 0.96652, 'high'...\n",
       "5535   AAPL  {'date': '2000-01-03', 'open': 0.9363800000000...\n",
       "\n",
       "[5536 rows x 2 columns]"
      ]
     },
     "execution_count": 10,
     "metadata": {},
     "output_type": "execute_result"
    }
   ],
   "source": [
    "data_mod"
   ]
  },
  {
   "cell_type": "code",
   "execution_count": null,
   "metadata": {},
   "outputs": [],
   "source": []
  },
  {
   "cell_type": "code",
   "execution_count": null,
   "metadata": {},
   "outputs": [],
   "source": []
  },
  {
   "cell_type": "code",
   "execution_count": null,
   "metadata": {},
   "outputs": [],
   "source": [
    "df_marketcap = pd.DataFrame()\n",
    "for ticker in tqdm(tickers):\n",
    "    try:\n",
    "        url = f\"https://financialmodelingprep.com/api/v3/historical-market-capitalization/{ticker}?&apikey={api_key}\"\n",
    "        data_mod = pd.read_json(url)\n",
    "\n",
    "        data_mod = pd.DataFrame(data_mod)\n",
    "        data_mod[\"date\"] = pd.to_datetime(data_mod[\"date\"])\n",
    "\n",
    "        data_mod = data_mod[data_mod[\"date\"] > start_date]\n",
    "        df_marketcap = pd.concat([df_marketcap, data_mod], ignore_index=True)\n",
    "\n",
    "    except Exception as e:\n",
    "        pass"
   ]
  },
  {
   "cell_type": "code",
   "execution_count": null,
   "metadata": {},
   "outputs": [],
   "source": [
    "\n",
    "    ticker_list = tickers if isinstance(tickers, list) else [tickers]\n",
    "\n",
    "    statement_to_location = {\n",
    "        \"balance\": \"balance-sheet-statement\",\n",
    "        \"income\": \"income-statement\",\n",
    "        \"cashflow\": \"cash-flow-statement\",\n",
    "    }\n",
    "\n",
    "    location = statement_to_location.get(statement)\n",
    "    if location is None:\n",
    "        raise ValueError(\n",
    "            \"Invalid statement type. Choose 'balance', 'income', or 'cashflow'.\"\n",
    "        )\n",
    "\n",
    "    period = \"quarter\" if quarter else \"annual\"\n",
    "    financial_statement_dict = {}\n",
    "    invalid_tickers = []\n",
    "\n",
    "    ticker_iterator = (\n",
    "        tqdm(ticker_list, desc=f\"Obtaining {statement} data\")\n",
    "        if ENABLE_TQDM & progress_bar\n",
    "        else ticker_list\n",
    "    )\n",
    "\n",
    "    for ticker in ticker_iterator:\n",
    "        url = f\"https://financialmodelingprep.com/api/v3/{location}/{ticker}?period={period}&apikey={api_key}\"\n",
    "\n",
    "        try:\n",
    "            financial_statement = pd.read_json(url)\n",
    "            if financial_statement.empty:\n",
    "                invalid_tickers.append(ticker)\n",
    "                continue\n",
    "        except Exception as error:\n",
    "            invalid_tickers.append(ticker)\n",
    "            continue\n",
    "\n",
    "        date_col = \"date\" if quarter else \"calendarYear\"\n",
    "        freq = \"Q\" if quarter else \"Y\"\n",
    "        financial_statement[date_col] = pd.to_datetime(\n",
    "            financial_statement[date_col].astype(str)\n",
    "        ).dt.to_period(freq)\n",
    "\n",
    "        financial_statement_dict[ticker] = financial_statement\n",
    "\n",
    "    if not financial_statement_dict:\n",
    "        return pd.DataFrame(), invalid_tickers\n",
    "\n",
    "    financial_statement_total = pd.concat(financial_statement_dict)\n",
    "    financial_statement_total.reset_index(drop=True, inplace=True)\n",
    "    financial_statement_total = financial_statement_total.drop_duplicates().reset_index(\n",
    "        drop=True\n",
    "    )\n",
    "\n",
    "    if start_date or end_date:\n",
    "        mask = True\n",
    "        if start_date:\n",
    "            mask &= financial_statement_total[\"date\"] >= start_date\n",
    "        if end_date:\n",
    "            mask &= financial_statement_total[\"date\"] <= end_date\n",
    "        financial_statement_total = financial_statement_total[mask]\n",
    "\n",
    "    financial_statement_total[\"date\"] = financial_statement_total[\"date\"].astype(str)\n",
    "    return financial_statement_total, invalid_tickers\n"
   ]
  }
 ],
 "metadata": {
  "kernelspec": {
   "display_name": "obb",
   "language": "python",
   "name": "python3"
  },
  "language_info": {
   "codemirror_mode": {
    "name": "ipython",
    "version": 3
   },
   "file_extension": ".py",
   "mimetype": "text/x-python",
   "name": "python",
   "nbconvert_exporter": "python",
   "pygments_lexer": "ipython3",
   "version": "3.10.13"
  },
  "orig_nbformat": 4
 },
 "nbformat": 4,
 "nbformat_minor": 2
}
