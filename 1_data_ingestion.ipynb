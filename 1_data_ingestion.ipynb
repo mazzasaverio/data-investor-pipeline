{
  "cells": [
    {
      "cell_type": "markdown",
      "id": "c87227be",
      "metadata": {
        "id": "c87227be"
      },
      "source": [
        "Note:\n",
        "\n",
        "- notebook di ingestion che si trasformerà in uno script (dag) della pipeline\n",
        "- prenderà i dati dall'API e farà l'ingestion in un data lake (al momento istnaza di EC2)\n",
        "  - vedere la parte di data lake. L'idea al momento è di effettuare dei trigger ad evennto o schedulate dell'API che va in append con i nuovi record in file parques storicizzati in un data lake\n",
        "  - in futuro sarà in data lake che potrà storicizzare altre tipologie di dati\n",
        "- i dati verranno letti dallo step successivo per la fase di preprocessamento per le quali si avrà un primo layer a DB dei dati\n"
      ]
    },
    {
      "cell_type": "code",
      "execution_count": 14,
      "id": "zYKlU_2cBms1",
      "metadata": {
        "colab": {
          "base_uri": "https://localhost:8080/"
        },
        "id": "zYKlU_2cBms1",
        "outputId": "164fa32c-831b-494e-b78b-dab9241bcb92"
      },
      "outputs": [
        {
          "name": "stdout",
          "output_type": "stream",
          "text": [
            "/content/drive/MyDrive/GitHub_Repositories/ML_InvestmentManagement\n",
            "Drive already mounted at /content/drive; to attempt to forcibly remount, call drive.mount(\"/content/drive\", force_remount=True).\n"
          ]
        }
      ],
      "source": [
        "import os\n",
        "root_path = os.path.abspath(\".\")\n",
        "\n",
        "if root_path.startswith(\"/content\"):\n",
        "\n",
        "  from google.colab import drive\n",
        "  drive.mount('/content/drive')\n",
        "\n",
        "  os.chdir('/content/drive/MyDrive/GitHub_Repositories/ML_InvestmentManagement')\n",
        "\n",
        "  root_path = os.path.abspath(\".\")\n",
        "\n",
        "  !pip install  boto3 awswrangler awscli plotly fundamentalanalysis --quiet"
      ]
    },
    {
      "cell_type": "code",
      "execution_count": 15,
      "id": "cb8ad015",
      "metadata": {
        "colab": {
          "base_uri": "https://localhost:8080/"
        },
        "id": "cb8ad015",
        "outputId": "e520acfa-a96b-42f3-e1ed-b023d81e0b41"
      },
      "outputs": [
        {
          "name": "stdout",
          "output_type": "stream",
          "text": [
            "awscli.ini already exist!\n"
          ]
        }
      ],
      "source": [
        "path_config_aws = os.path.abspath(\"config/awscli.ini\")\n",
        "\n",
        "if not os.path.exists(path_config_aws):\n",
        "    text = \"\"\"\n",
        "  [ml_invest]\n",
        "  aws_access_key_id = <...>\n",
        "  aws_secret_access_key =  <...>\n",
        "  region = eu-west-3\n",
        "  \"\"\"\n",
        "    with open(path_config_aws, \"w\") as f:\n",
        "        f.write(text)\n",
        "else:\n",
        "    print(\"awscli.ini already exist!\")"
      ]
    },
    {
      "cell_type": "code",
      "execution_count": 16,
      "id": "12d889ef",
      "metadata": {
        "colab": {
          "base_uri": "https://localhost:8080/"
        },
        "id": "12d889ef",
        "outputId": "8b634525-ca5c-4ea5-fee6-43ca976568e3"
      },
      "outputs": [
        {
          "name": "stdout",
          "output_type": "stream",
          "text": [
            "/content/drive/MyDrive/GitHub_Repositories/ML_InvestmentManagement/config/awscli.ini\n"
          ]
        }
      ],
      "source": [
        "import os\n",
        "!export AWS_SHARED_CREDENTIALS_FILE=path_config_aws\n",
        "\n",
        "os.environ['AWS_SHARED_CREDENTIALS_FILE'] = path_config_aws\n",
        "print(os.environ['AWS_SHARED_CREDENTIALS_FILE'])"
      ]
    },
    {
      "cell_type": "code",
      "execution_count": 13,
      "id": "73c37b2f",
      "metadata": {},
      "outputs": [],
      "source": [
        "import configparser\n",
        "\n",
        "config = configparser.ConfigParser()\n",
        "config.read(\"./config/credential.ini\")\n",
        "\n",
        "fmp_key = config.get(\"API_KEYS\", \"FMP\")"
      ]
    },
    {
      "cell_type": "code",
      "execution_count": 14,
      "id": "e5f595ed",
      "metadata": {},
      "outputs": [
        {
          "data": {
            "text/html": [
              "<div>\n",
              "<style scoped>\n",
              "    .dataframe tbody tr th:only-of-type {\n",
              "        vertical-align: middle;\n",
              "    }\n",
              "\n",
              "    .dataframe tbody tr th {\n",
              "        vertical-align: top;\n",
              "    }\n",
              "\n",
              "    .dataframe thead th {\n",
              "        text-align: right;\n",
              "    }\n",
              "</style>\n",
              "<table border=\"1\" class=\"dataframe\">\n",
              "  <thead>\n",
              "    <tr style=\"text-align: right;\">\n",
              "      <th></th>\n",
              "      <th>Key</th>\n",
              "    </tr>\n",
              "    <tr>\n",
              "      <th>API</th>\n",
              "      <th></th>\n",
              "    </tr>\n",
              "  </thead>\n",
              "  <tbody>\n",
              "    <tr>\n",
              "      <th>ETHPLORER_KEY</th>\n",
              "      <td>*******</td>\n",
              "    </tr>\n",
              "    <tr>\n",
              "      <th>KEY_FINANCIALMODELINGPREP</th>\n",
              "      <td>*******</td>\n",
              "    </tr>\n",
              "  </tbody>\n",
              "</table>\n",
              "</div>"
            ],
            "text/plain": [
              "                               Key\n",
              "API                               \n",
              "ETHPLORER_KEY              *******\n",
              "KEY_FINANCIALMODELINGPREP  *******"
            ]
          },
          "execution_count": 14,
          "metadata": {},
          "output_type": "execute_result"
        }
      ],
      "source": [
        "from openbb_terminal.sdk import openbb\n",
        "\n",
        "# help(openbb.keys.fmp)\n",
        "openbb.keys.fmp(key=fmp_key, persist=True)\n",
        "openbb.keys.mykeys(show=False)"
      ]
    },
    {
      "cell_type": "code",
      "execution_count": 16,
      "id": "930e6738",
      "metadata": {
        "id": "930e6738"
      },
      "outputs": [],
      "source": []
    },
    {
      "cell_type": "code",
      "execution_count": 17,
      "id": "c507eb74",
      "metadata": {
        "id": "c507eb74"
      },
      "outputs": [],
      "source": [
        "import pandas as pd\n",
        "import numpy as np\n",
        "import awswrangler as wr\n",
        "import boto3\n",
        "import os\n",
        "import yaml\n",
        "import fundamentalanalysis as fa\n",
        "\n",
        "pd.set_option(\"display.max_columns\", None)\n",
        "\n",
        "import warnings\n",
        "\n",
        "warnings.filterwarnings(\"ignore\", category=DeprecationWarning)\n",
        "\n",
        "from tqdm import tqdm\n",
        "from configparser import ConfigParser\n",
        "from configparser import ExtendedInterpolation\n",
        "\n",
        "from utils.financial_modelling_prep.details import available_companies\n",
        "from utils.financial_modelling_prep.financial_statements import (\n",
        "    get_and_save_financial_statament_data_fmp,\n",
        "    get_index_hist_price,\n",
        "    get_hist_price,\n",
        ")\n",
        "\n",
        "from datetime import date"
      ]
    },
    {
      "cell_type": "code",
      "execution_count": 18,
      "id": "a717e96a",
      "metadata": {
        "id": "a717e96a"
      },
      "outputs": [],
      "source": [
        "from urllib.request import urlopen\n",
        "from urllib.error import HTTPError\n",
        "import json\n",
        "import certifi\n",
        "\n",
        "\n",
        "def get_jsonparsed_data(url):\n",
        "    response = urlopen(url, cafile=certifi.where())\n",
        "    data = response.read().decode(\"utf-8\")\n",
        "    return json.loads(data)"
      ]
    },
    {
      "cell_type": "code",
      "execution_count": 19,
      "id": "06668506",
      "metadata": {
        "id": "06668506"
      },
      "outputs": [],
      "source": [
        "with open(os.path.abspath(\"config/1_data_ingestion.yaml\")) as file:\n",
        "    config_ingestion = yaml.safe_load(file)"
      ]
    },
    {
      "cell_type": "code",
      "execution_count": 20,
      "id": "46577d94",
      "metadata": {
        "id": "46577d94"
      },
      "outputs": [],
      "source": [
        "boto3.setup_default_session(profile_name=\"ml_invest\")"
      ]
    },
    {
      "cell_type": "code",
      "execution_count": 1,
      "id": "7a457538",
      "metadata": {
        "id": "7a457538"
      },
      "outputs": [],
      "source": []
    },
    {
      "cell_type": "code",
      "execution_count": 2,
      "id": "e4e9811c",
      "metadata": {},
      "outputs": [
        {
          "ename": "NameError",
          "evalue": "name 'ticker' is not defined",
          "output_type": "error",
          "traceback": [
            "\u001b[0;31m---------------------------------------------------------------------------\u001b[0m",
            "\u001b[0;31mNameError\u001b[0m                                 Traceback (most recent call last)",
            "\u001b[1;32m/home/sam/github/data-driven-investor-platform/1_data_ingestion.ipynb Cell 13\u001b[0m line \u001b[0;36m1\n\u001b[0;32m----> <a href='vscode-notebook-cell:/home/sam/github/data-driven-investor-platform/1_data_ingestion.ipynb#Y115sZmlsZQ%3D%3D?line=0'>1</a>\u001b[0m url \u001b[39m=\u001b[39m \u001b[39mf\u001b[39m\u001b[39m\"\u001b[39m\u001b[39m{\u001b[39;00mbase_url\u001b[39m}\u001b[39;00m\u001b[39m{\u001b[39;00mticker\u001b[39m}\u001b[39;00m\u001b[39m?from=\u001b[39m\u001b[39m{\u001b[39;00mstart_date\u001b[39m}\u001b[39;00m\u001b[39m&to=\u001b[39m\u001b[39m{\u001b[39;00mend_date\u001b[39m}\u001b[39;00m\u001b[39m&apikey=\u001b[39m\u001b[39m{\u001b[39;00mapi_key\u001b[39m}\u001b[39;00m\u001b[39m\"\u001b[39m\n",
            "\u001b[0;31mNameError\u001b[0m: name 'ticker' is not defined"
          ]
        }
      ],
      "source": []
    },
    {
      "cell_type": "code",
      "execution_count": null,
      "id": "84c79e8d",
      "metadata": {},
      "outputs": [],
      "source": []
    },
    {
      "cell_type": "code",
      "execution_count": 20,
      "id": "d0974fe2",
      "metadata": {
        "id": "d0974fe2"
      },
      "outputs": [],
      "source": []
    },
    {
      "cell_type": "code",
      "execution_count": 21,
      "id": "013476ce",
      "metadata": {
        "id": "013476ce"
      },
      "outputs": [],
      "source": [
        "raw_s3_bucket = \"ml-invest-bucket\"\n",
        "raw_path_dir = \"financial_modeling_prep\"\n",
        "raw_path = f\"s3://{raw_s3_bucket}/{raw_path_dir}/\""
      ]
    },
    {
      "cell_type": "code",
      "execution_count": 22,
      "id": "31322665",
      "metadata": {
        "id": "31322665"
      },
      "outputs": [],
      "source": [
        "today = date.today().strftime(\"%Y-%m-%d\")"
      ]
    },
    {
      "cell_type": "code",
      "execution_count": 22,
      "id": "b546b63e",
      "metadata": {
        "id": "b546b63e"
      },
      "outputs": [],
      "source": []
    },
    {
      "cell_type": "code",
      "execution_count": 23,
      "id": "5a209b1b",
      "metadata": {
        "id": "5a209b1b"
      },
      "outputs": [],
      "source": [
        "database = config_ingestion[\"database\"]\n",
        "tables = config_ingestion[\"tables\"]\n",
        "\n",
        "save_file = config_ingestion[\"save_file\"]\n",
        "download = config_ingestion[\"download\"]\n",
        "limit = config_ingestion[\"limit\"]"
      ]
    },
    {
      "cell_type": "code",
      "execution_count": 3,
      "id": "a26027ef",
      "metadata": {
        "id": "a26027ef"
      },
      "outputs": [
        {
          "data": {
            "text/html": [
              "<pre style=\"white-space:pre;overflow-x:auto;line-height:normal;font-family:Menlo,'DejaVu Sans Mono',consolas,'Courier New',monospace\"><span style=\"color: #808000; text-decoration-color: #808000\">Forecasting Toolkit is disabled. To use the Forecasting features please install the toolkit following the instructions here: https://docs.openbb.co/sdk/quickstart/installation/</span>\n",
              "\n",
              "</pre>\n"
            ],
            "text/plain": [
              "\u001b[33mForecasting Toolkit is disabled. To use the Forecasting features please install the toolkit following the instructions here: https://docs.openbb.co/sdk/quickstart/installation/\u001b[0m\n",
              "\n"
            ]
          },
          "metadata": {},
          "output_type": "display_data"
        },
        {
          "data": {
            "text/html": [
              "<pre style=\"white-space:pre;overflow-x:auto;line-height:normal;font-family:Menlo,'DejaVu Sans Mono',consolas,'Courier New',monospace\"><span style=\"color: #808000; text-decoration-color: #808000\">Portfolio Optimization Toolkit is disabled. To use the Optimization features please install the toolkit following the instructions here: https://docs.openbb.co/sdk/quickstart/installation/</span>\n",
              "\n",
              "</pre>\n"
            ],
            "text/plain": [
              "\u001b[33mPortfolio Optimization Toolkit is disabled. To use the Optimization features please install the toolkit following the instructions here: https://docs.openbb.co/sdk/quickstart/installation/\u001b[0m\n",
              "\n"
            ]
          },
          "metadata": {},
          "output_type": "display_data"
        }
      ],
      "source": []
    },
    {
      "cell_type": "code",
      "execution_count": 9,
      "id": "30c2a328",
      "metadata": {},
      "outputs": [
        {
          "data": {
            "text/html": [
              "<div>\n",
              "<style scoped>\n",
              "    .dataframe tbody tr th:only-of-type {\n",
              "        vertical-align: middle;\n",
              "    }\n",
              "\n",
              "    .dataframe tbody tr th {\n",
              "        vertical-align: top;\n",
              "    }\n",
              "\n",
              "    .dataframe thead th {\n",
              "        text-align: right;\n",
              "    }\n",
              "</style>\n",
              "<table border=\"1\" class=\"dataframe\">\n",
              "  <thead>\n",
              "    <tr style=\"text-align: right;\">\n",
              "      <th></th>\n",
              "      <th>Key</th>\n",
              "    </tr>\n",
              "    <tr>\n",
              "      <th>API</th>\n",
              "      <th></th>\n",
              "    </tr>\n",
              "  </thead>\n",
              "  <tbody>\n",
              "    <tr>\n",
              "      <th>ETHPLORER_KEY</th>\n",
              "      <td>*******</td>\n",
              "    </tr>\n",
              "    <tr>\n",
              "      <th>KEY_FINANCIALMODELINGPREP</th>\n",
              "      <td>*******</td>\n",
              "    </tr>\n",
              "  </tbody>\n",
              "</table>\n",
              "</div>"
            ],
            "text/plain": [
              "                               Key\n",
              "API                               \n",
              "ETHPLORER_KEY              *******\n",
              "KEY_FINANCIALMODELINGPREP  *******"
            ]
          },
          "execution_count": 9,
          "metadata": {},
          "output_type": "execute_result"
        }
      ],
      "source": []
    },
    {
      "cell_type": "code",
      "execution_count": null,
      "id": "472ce52d",
      "metadata": {},
      "outputs": [],
      "source": []
    },
    {
      "cell_type": "code",
      "execution_count": 24,
      "id": "737cb7d5",
      "metadata": {
        "colab": {
          "base_uri": "https://localhost:8080/",
          "height": 574
        },
        "id": "737cb7d5",
        "outputId": "56b4ee89-9dc8-45b8-f86f-2befc214495c"
      },
      "outputs": [
        {
          "name": "stdout",
          "output_type": "stream",
          "text": [
            "Database: financial_data\n",
            "\n",
            "Tables:\n"
          ]
        },
        {
          "data": {
            "text/html": [
              "\n",
              "  <div id=\"df-b74405f6-861a-4522-b375-def14eb79ff6\">\n",
              "    <div class=\"colab-df-container\">\n",
              "      <div>\n",
              "<style scoped>\n",
              "    .dataframe tbody tr th:only-of-type {\n",
              "        vertical-align: middle;\n",
              "    }\n",
              "\n",
              "    .dataframe tbody tr th {\n",
              "        vertical-align: top;\n",
              "    }\n",
              "\n",
              "    .dataframe thead th {\n",
              "        text-align: right;\n",
              "    }\n",
              "</style>\n",
              "<table border=\"1\" class=\"dataframe\">\n",
              "  <thead>\n",
              "    <tr style=\"text-align: right;\">\n",
              "      <th></th>\n",
              "      <th>Database</th>\n",
              "      <th>Table</th>\n",
              "      <th>Description</th>\n",
              "      <th>TableType</th>\n",
              "      <th>Columns</th>\n",
              "      <th>Partitions</th>\n",
              "    </tr>\n",
              "  </thead>\n",
              "  <tbody>\n",
              "    <tr>\n",
              "      <th>0</th>\n",
              "      <td>financial_data</td>\n",
              "      <td>2_abt_base</td>\n",
              "      <td></td>\n",
              "      <td>EXTERNAL_TABLE</td>\n",
              "      <td>date, ticker, adjclose, volume, unadjustedvolu...</td>\n",
              "      <td></td>\n",
              "    </tr>\n",
              "    <tr>\n",
              "      <th>1</th>\n",
              "      <td>financial_data</td>\n",
              "      <td>2_balance_sheet_statement_process</td>\n",
              "      <td></td>\n",
              "      <td>EXTERNAL_TABLE</td>\n",
              "      <td>cik, fillingdate, calendaryear, period, cashan...</td>\n",
              "      <td></td>\n",
              "    </tr>\n",
              "    <tr>\n",
              "      <th>2</th>\n",
              "      <td>financial_data</td>\n",
              "      <td>2_cash_flow_statement_process</td>\n",
              "      <td></td>\n",
              "      <td>EXTERNAL_TABLE</td>\n",
              "      <td>cik, fillingdate, calendaryear, period, netcas...</td>\n",
              "      <td></td>\n",
              "    </tr>\n",
              "    <tr>\n",
              "      <th>3</th>\n",
              "      <td>financial_data</td>\n",
              "      <td>2_income_statement_process</td>\n",
              "      <td></td>\n",
              "      <td>EXTERNAL_TABLE</td>\n",
              "      <td>cik, fillingdate, calendaryear, period, revenu...</td>\n",
              "      <td></td>\n",
              "    </tr>\n",
              "    <tr>\n",
              "      <th>4</th>\n",
              "      <td>financial_data</td>\n",
              "      <td>3_1_fe_targets</td>\n",
              "      <td></td>\n",
              "      <td>EXTERNAL_TABLE</td>\n",
              "      <td>date, ticker, adjclose, cik, diff_return_mean_...</td>\n",
              "      <td></td>\n",
              "    </tr>\n",
              "    <tr>\n",
              "      <th>5</th>\n",
              "      <td>financial_data</td>\n",
              "      <td>alerts_score</td>\n",
              "      <td></td>\n",
              "      <td>EXTERNAL_TABLE</td>\n",
              "      <td>ticker, fillingdate, calendaryear, period, ale...</td>\n",
              "      <td></td>\n",
              "    </tr>\n",
              "    <tr>\n",
              "      <th>6</th>\n",
              "      <td>financial_data</td>\n",
              "      <td>balance_sheet_statement</td>\n",
              "      <td></td>\n",
              "      <td>EXTERNAL_TABLE</td>\n",
              "      <td>index, reportedcurrency, cik, fillingdate, acc...</td>\n",
              "      <td></td>\n",
              "    </tr>\n",
              "    <tr>\n",
              "      <th>7</th>\n",
              "      <td>financial_data</td>\n",
              "      <td>cash_flow_statement</td>\n",
              "      <td></td>\n",
              "      <td>EXTERNAL_TABLE</td>\n",
              "      <td>index, reportedcurrency, cik, fillingdate, acc...</td>\n",
              "      <td></td>\n",
              "    </tr>\n",
              "    <tr>\n",
              "      <th>8</th>\n",
              "      <td>financial_data</td>\n",
              "      <td>daily_index_price</td>\n",
              "      <td></td>\n",
              "      <td>EXTERNAL_TABLE</td>\n",
              "      <td>ticker, date, adjclose, unadjustedvolume, vwap</td>\n",
              "      <td></td>\n",
              "    </tr>\n",
              "    <tr>\n",
              "      <th>9</th>\n",
              "      <td>financial_data</td>\n",
              "      <td>daily_price</td>\n",
              "      <td></td>\n",
              "      <td>EXTERNAL_TABLE</td>\n",
              "      <td>date, open, high, low, close, adjclose, volume...</td>\n",
              "      <td></td>\n",
              "    </tr>\n",
              "    <tr>\n",
              "      <th>10</th>\n",
              "      <td>financial_data</td>\n",
              "      <td>economic_indicators</td>\n",
              "      <td></td>\n",
              "      <td>EXTERNAL_TABLE</td>\n",
              "      <td>inflationrate, initialclaims, 30yearfixedratem...</td>\n",
              "      <td></td>\n",
              "    </tr>\n",
              "    <tr>\n",
              "      <th>11</th>\n",
              "      <td>financial_data</td>\n",
              "      <td>income_statement</td>\n",
              "      <td></td>\n",
              "      <td>EXTERNAL_TABLE</td>\n",
              "      <td>index, reportedcurrency, cik, fillingdate, acc...</td>\n",
              "      <td></td>\n",
              "    </tr>\n",
              "    <tr>\n",
              "      <th>12</th>\n",
              "      <td>financial_data</td>\n",
              "      <td>marketcap</td>\n",
              "      <td></td>\n",
              "      <td>EXTERNAL_TABLE</td>\n",
              "      <td>symbol, date, marketcap</td>\n",
              "      <td></td>\n",
              "    </tr>\n",
              "    <tr>\n",
              "      <th>13</th>\n",
              "      <td>financial_data</td>\n",
              "      <td>profile</td>\n",
              "      <td></td>\n",
              "      <td>EXTERNAL_TABLE</td>\n",
              "      <td>symbol, price, beta, volavg, mktcap, lastdiv, ...</td>\n",
              "      <td></td>\n",
              "    </tr>\n",
              "    <tr>\n",
              "      <th>14</th>\n",
              "      <td>financial_data</td>\n",
              "      <td>total_features</td>\n",
              "      <td></td>\n",
              "      <td>EXTERNAL_TABLE</td>\n",
              "      <td>date, ticker, adjclose, volume, unadjustedvolu...</td>\n",
              "      <td></td>\n",
              "    </tr>\n",
              "  </tbody>\n",
              "</table>\n",
              "</div>\n",
              "      <button class=\"colab-df-convert\" onclick=\"convertToInteractive('df-b74405f6-861a-4522-b375-def14eb79ff6')\"\n",
              "              title=\"Convert this dataframe to an interactive table.\"\n",
              "              style=\"display:none;\">\n",
              "        \n",
              "  <svg xmlns=\"http://www.w3.org/2000/svg\" height=\"24px\"viewBox=\"0 0 24 24\"\n",
              "       width=\"24px\">\n",
              "    <path d=\"M0 0h24v24H0V0z\" fill=\"none\"/>\n",
              "    <path d=\"M18.56 5.44l.94 2.06.94-2.06 2.06-.94-2.06-.94-.94-2.06-.94 2.06-2.06.94zm-11 1L8.5 8.5l.94-2.06 2.06-.94-2.06-.94L8.5 2.5l-.94 2.06-2.06.94zm10 10l.94 2.06.94-2.06 2.06-.94-2.06-.94-.94-2.06-.94 2.06-2.06.94z\"/><path d=\"M17.41 7.96l-1.37-1.37c-.4-.4-.92-.59-1.43-.59-.52 0-1.04.2-1.43.59L10.3 9.45l-7.72 7.72c-.78.78-.78 2.05 0 2.83L4 21.41c.39.39.9.59 1.41.59.51 0 1.02-.2 1.41-.59l7.78-7.78 2.81-2.81c.8-.78.8-2.07 0-2.86zM5.41 20L4 18.59l7.72-7.72 1.47 1.35L5.41 20z\"/>\n",
              "  </svg>\n",
              "      </button>\n",
              "      \n",
              "  <style>\n",
              "    .colab-df-container {\n",
              "      display:flex;\n",
              "      flex-wrap:wrap;\n",
              "      gap: 12px;\n",
              "    }\n",
              "\n",
              "    .colab-df-convert {\n",
              "      background-color: #E8F0FE;\n",
              "      border: none;\n",
              "      border-radius: 50%;\n",
              "      cursor: pointer;\n",
              "      display: none;\n",
              "      fill: #1967D2;\n",
              "      height: 32px;\n",
              "      padding: 0 0 0 0;\n",
              "      width: 32px;\n",
              "    }\n",
              "\n",
              "    .colab-df-convert:hover {\n",
              "      background-color: #E2EBFA;\n",
              "      box-shadow: 0px 1px 2px rgba(60, 64, 67, 0.3), 0px 1px 3px 1px rgba(60, 64, 67, 0.15);\n",
              "      fill: #174EA6;\n",
              "    }\n",
              "\n",
              "    [theme=dark] .colab-df-convert {\n",
              "      background-color: #3B4455;\n",
              "      fill: #D2E3FC;\n",
              "    }\n",
              "\n",
              "    [theme=dark] .colab-df-convert:hover {\n",
              "      background-color: #434B5C;\n",
              "      box-shadow: 0px 1px 3px 1px rgba(0, 0, 0, 0.15);\n",
              "      filter: drop-shadow(0px 1px 2px rgba(0, 0, 0, 0.3));\n",
              "      fill: #FFFFFF;\n",
              "    }\n",
              "  </style>\n",
              "\n",
              "      <script>\n",
              "        const buttonEl =\n",
              "          document.querySelector('#df-b74405f6-861a-4522-b375-def14eb79ff6 button.colab-df-convert');\n",
              "        buttonEl.style.display =\n",
              "          google.colab.kernel.accessAllowed ? 'block' : 'none';\n",
              "\n",
              "        async function convertToInteractive(key) {\n",
              "          const element = document.querySelector('#df-b74405f6-861a-4522-b375-def14eb79ff6');\n",
              "          const dataTable =\n",
              "            await google.colab.kernel.invokeFunction('convertToInteractive',\n",
              "                                                     [key], {});\n",
              "          if (!dataTable) return;\n",
              "\n",
              "          const docLinkHtml = 'Like what you see? Visit the ' +\n",
              "            '<a target=\"_blank\" href=https://colab.research.google.com/notebooks/data_table.ipynb>data table notebook</a>'\n",
              "            + ' to learn more about interactive tables.';\n",
              "          element.innerHTML = '';\n",
              "          dataTable['output_type'] = 'display_data';\n",
              "          await google.colab.output.renderOutput(dataTable, element);\n",
              "          const docLink = document.createElement('div');\n",
              "          docLink.innerHTML = docLinkHtml;\n",
              "          element.appendChild(docLink);\n",
              "        }\n",
              "      </script>\n",
              "    </div>\n",
              "  </div>\n",
              "  "
            ],
            "text/plain": [
              "          Database                              Table Description  \\\n",
              "0   financial_data                         2_abt_base               \n",
              "1   financial_data  2_balance_sheet_statement_process               \n",
              "2   financial_data      2_cash_flow_statement_process               \n",
              "3   financial_data         2_income_statement_process               \n",
              "4   financial_data                     3_1_fe_targets               \n",
              "5   financial_data                       alerts_score               \n",
              "6   financial_data            balance_sheet_statement               \n",
              "7   financial_data                cash_flow_statement               \n",
              "8   financial_data                  daily_index_price               \n",
              "9   financial_data                        daily_price               \n",
              "10  financial_data                economic_indicators               \n",
              "11  financial_data                   income_statement               \n",
              "12  financial_data                          marketcap               \n",
              "13  financial_data                            profile               \n",
              "14  financial_data                     total_features               \n",
              "\n",
              "         TableType                                            Columns  \\\n",
              "0   EXTERNAL_TABLE  date, ticker, adjclose, volume, unadjustedvolu...   \n",
              "1   EXTERNAL_TABLE  cik, fillingdate, calendaryear, period, cashan...   \n",
              "2   EXTERNAL_TABLE  cik, fillingdate, calendaryear, period, netcas...   \n",
              "3   EXTERNAL_TABLE  cik, fillingdate, calendaryear, period, revenu...   \n",
              "4   EXTERNAL_TABLE  date, ticker, adjclose, cik, diff_return_mean_...   \n",
              "5   EXTERNAL_TABLE  ticker, fillingdate, calendaryear, period, ale...   \n",
              "6   EXTERNAL_TABLE  index, reportedcurrency, cik, fillingdate, acc...   \n",
              "7   EXTERNAL_TABLE  index, reportedcurrency, cik, fillingdate, acc...   \n",
              "8   EXTERNAL_TABLE     ticker, date, adjclose, unadjustedvolume, vwap   \n",
              "9   EXTERNAL_TABLE  date, open, high, low, close, adjclose, volume...   \n",
              "10  EXTERNAL_TABLE  inflationrate, initialclaims, 30yearfixedratem...   \n",
              "11  EXTERNAL_TABLE  index, reportedcurrency, cik, fillingdate, acc...   \n",
              "12  EXTERNAL_TABLE                            symbol, date, marketcap   \n",
              "13  EXTERNAL_TABLE  symbol, price, beta, volavg, mktcap, lastdiv, ...   \n",
              "14  EXTERNAL_TABLE  date, ticker, adjclose, volume, unadjustedvolu...   \n",
              "\n",
              "   Partitions  \n",
              "0              \n",
              "1              \n",
              "2              \n",
              "3              \n",
              "4              \n",
              "5              \n",
              "6              \n",
              "7              \n",
              "8              \n",
              "9              \n",
              "10             \n",
              "11             \n",
              "12             \n",
              "13             \n",
              "14             "
            ]
          },
          "execution_count": 24,
          "metadata": {},
          "output_type": "execute_result"
        }
      ],
      "source": [
        "# TODO: create utils methods to handle AWS\n",
        "client = boto3.client(\"glue\")\n",
        "\n",
        "# List the databases in the Glue Data Catalog\n",
        "response = client.get_databases()\n",
        "\n",
        "database = response[\"DatabaseList\"][0][\"Name\"]\n",
        "\n",
        "response_table = client.get_tables(DatabaseName=database)\n",
        "\n",
        "# TODO print more information about tables\n",
        "print(f\"Database: {database}\\n\")\n",
        "print(\"Tables:\")\n",
        "df_tables = wr.catalog.tables()\n",
        "df_tables"
      ]
    },
    {
      "cell_type": "markdown",
      "id": "e44e3932",
      "metadata": {
        "id": "e44e3932"
      },
      "source": [
        "### Read data from API\n"
      ]
    },
    {
      "cell_type": "code",
      "execution_count": 25,
      "id": "cc709e25",
      "metadata": {
        "id": "cc709e25"
      },
      "outputs": [],
      "source": []
    },
    {
      "cell_type": "code",
      "execution_count": 26,
      "id": "f41a6829",
      "metadata": {
        "id": "f41a6829"
      },
      "outputs": [],
      "source": [
        "# list of companies\n",
        "companies = available_companies(api_key)\n",
        "companies.reset_index(inplace=True)"
      ]
    },
    {
      "cell_type": "code",
      "execution_count": 27,
      "id": "0275fb51",
      "metadata": {
        "id": "0275fb51"
      },
      "outputs": [],
      "source": [
        "companies_nasdaq = companies[\n",
        "    (companies[\"exchangeShortName\"] == \"NASDAQ\") & (companies[\"type\"] == \"stock\")\n",
        "]\n",
        "list_ticker = companies_nasdaq.symbol.to_list()"
      ]
    },
    {
      "cell_type": "code",
      "execution_count": 27,
      "id": "35d7046b",
      "metadata": {
        "id": "35d7046b"
      },
      "outputs": [],
      "source": []
    },
    {
      "cell_type": "markdown",
      "id": "e28db6fe",
      "metadata": {
        "id": "e28db6fe"
      },
      "source": [
        "#### Download Historical Marketcap\n"
      ]
    },
    {
      "cell_type": "code",
      "execution_count": null,
      "id": "03101183",
      "metadata": {
        "id": "03101183"
      },
      "outputs": [],
      "source": []
    },
    {
      "cell_type": "code",
      "execution_count": null,
      "id": "196935d2",
      "metadata": {
        "id": "196935d2"
      },
      "outputs": [],
      "source": [
        "start_date = \"2000-01-01\""
      ]
    },
    {
      "cell_type": "code",
      "execution_count": null,
      "id": "40c31d85",
      "metadata": {
        "id": "40c31d85"
      },
      "outputs": [],
      "source": [
        "df_marketcap = pd.DataFrame()\n",
        "for ticker in tqdm(list_ticker):\n",
        "    try:\n",
        "        url = f\"https://financialmodelingprep.com/api/v3/historical-market-capitalization/{ticker}?&apikey={api_key}\"\n",
        "        data_mod = get_jsonparsed_data(url)\n",
        "\n",
        "        data_mod = pd.DataFrame(data_mod)\n",
        "        data_mod[\"date\"] = pd.to_datetime(data_mod[\"date\"])\n",
        "\n",
        "        data_mod = data_mod[data_mod[\"date\"] > start_date]\n",
        "        df_marketcap = pd.concat([df_marketcap, data_mod], ignore_index=True)\n",
        "\n",
        "    except Exception as e:\n",
        "        pass\n",
        "    # df_marketcap.to_csv(f\"data/financial_model_prep/hist_marketcap_{today}.csv\", index=False)\n",
        "\n",
        "df_marketcap.rename(columns={\"symbol\": \"ticker\"}, inplace=True)\n",
        "df_marketcap.to_csv(\n",
        "    f\"data/financial_model_prep/hist_marketcap_{today}.csv\", index=False\n",
        ")\n",
        "table = \"marketcap\"\n",
        "wr.s3.to_parquet(\n",
        "    df=df_marketcap,\n",
        "    path=raw_path + table,\n",
        "    dataset=True,\n",
        "    mode=\"overwrite\",\n",
        "    database=database,\n",
        "    table=table,\n",
        ")"
      ]
    },
    {
      "cell_type": "code",
      "execution_count": null,
      "id": "984203d1",
      "metadata": {
        "id": "984203d1"
      },
      "outputs": [],
      "source": []
    },
    {
      "cell_type": "markdown",
      "id": "241e2cb6",
      "metadata": {
        "id": "241e2cb6"
      },
      "source": [
        "### Economic Indicator\n"
      ]
    },
    {
      "cell_type": "markdown",
      "id": "08d18b5c",
      "metadata": {
        "id": "08d18b5c"
      },
      "source": [
        "Inflation Rate:\n",
        "\n",
        "- https://fred.stlouisfed.org/series/T10YIE\n"
      ]
    },
    {
      "cell_type": "code",
      "execution_count": 28,
      "id": "14eec92c",
      "metadata": {
        "id": "14eec92c"
      },
      "outputs": [],
      "source": [
        "quarterly_economic_indicators_list = [\n",
        "    \"GDP\",\n",
        "    \"realGDP\",\n",
        "    \"nominalPotentialGDP\",\n",
        "    \"realGDPPerCapita\",\n",
        "    \"commercialBankInterestRateOnCreditCardPlansAllAccounts\",\n",
        "]\n",
        "monthly_economic_indicators_list = [\n",
        "    \"federalFunds\",\n",
        "    \"CPI\",\n",
        "    \"retailSales\",\n",
        "    \"consumerSentiment\",\n",
        "    \"durableGoods\",\n",
        "    \"unemploymentRate\",\n",
        "    \"totalNonfarmPayroll\",\n",
        "    \"industrialProductionTotalIndex\",\n",
        "    \"newPrivatelyOwnedHousingUnitsStartedTotalUnits\",\n",
        "    \"totalVehicleSales\",\n",
        "    \"retailMoneyFunds\",\n",
        "    \"smoothedUSRecessionProbabilities\",\n",
        "    \"3MonthOr90DayRatesAndYieldsCertificatesOfDeposit\",\n",
        "]\n",
        "weekly_economic_indicators_list = [\n",
        "    \"initialClaims\",\n",
        "    \"30YearFixedRateMortgageAverage\",\n",
        "    \"15YearFixedRateMortgageAverage\",\n",
        "]\n",
        "daily_economic_indicators_list = [\"inflationRate\"]"
      ]
    },
    {
      "cell_type": "code",
      "execution_count": 29,
      "id": "44138434",
      "metadata": {
        "id": "44138434"
      },
      "outputs": [],
      "source": [
        "list_economic_indicator = daily_economic_indicators_list\n",
        "list_economic_indicator.extend(weekly_economic_indicators_list)\n",
        "list_economic_indicator.extend(monthly_economic_indicators_list)\n",
        "list_economic_indicator.extend(quarterly_economic_indicators_list)"
      ]
    },
    {
      "cell_type": "code",
      "execution_count": 30,
      "id": "34844c8d",
      "metadata": {
        "colab": {
          "base_uri": "https://localhost:8080/"
        },
        "id": "34844c8d",
        "outputId": "d37a2f41-8392-4d13-b6bd-5b0e882b6d89"
      },
      "outputs": [
        {
          "name": "stdout",
          "output_type": "stream",
          "text": [
            "inflationRate - (5026, 2)\n",
            "initialClaims - (1213, 2)\n",
            "30YearFixedRateMortgageAverage - (1214, 2)\n",
            "15YearFixedRateMortgageAverage - (1215, 2)\n",
            "federalFunds - (279, 2)\n",
            "CPI - (278, 2)\n",
            "retailSales - (278, 2)\n",
            "consumerSentiment - (278, 2)\n",
            "durableGoods - (278, 2)\n",
            "unemploymentRate - (279, 2)\n",
            "totalNonfarmPayroll - (279, 2)\n",
            "industrialProductionTotalIndex - (278, 2)\n",
            "newPrivatelyOwnedHousingUnitsStartedTotalUnits - (278, 2)\n",
            "totalVehicleSales - (279, 2)\n",
            "retailMoneyFunds - (278, 2)\n",
            "smoothedUSRecessionProbabilities - (278, 2)\n",
            "3MonthOr90DayRatesAndYieldsCertificatesOfDeposit - (277, 2)\n",
            "GDP - (92, 2)\n",
            "realGDP - (92, 2)\n",
            "nominalPotentialGDP - (93, 2)\n",
            "realGDPPerCapita - (92, 2)\n",
            "commercialBankInterestRateOnCreditCardPlansAllAccounts - (93, 2)\n"
          ]
        }
      ],
      "source": [
        "df_economic_indicator = pd.DataFrame()\n",
        "\n",
        "for economic_indicator in list_economic_indicator:\n",
        "    try:\n",
        "        url = f\"https://financialmodelingprep.com/api/v4/economic?name={economic_indicator}&from=1999-11-01&to=2023-02-01&apikey={api_key}\"\n",
        "        data_mod = get_jsonparsed_data(url)\n",
        "\n",
        "        data_mod = pd.DataFrame(data_mod)\n",
        "\n",
        "        print(f\"{economic_indicator} - {data_mod.shape}\")\n",
        "        data_mod[\"date\"] = pd.to_datetime(data_mod[\"date\"])\n",
        "\n",
        "        data_mod.rename(columns={\"value\": economic_indicator}, inplace=True)\n",
        "        data_mod.set_index(\"date\", inplace=True)\n",
        "\n",
        "        df_economic_indicator = pd.concat([df_economic_indicator, data_mod], axis=1)\n",
        "\n",
        "    except Exception as e:\n",
        "        print(e)\n",
        "        pass"
      ]
    },
    {
      "cell_type": "code",
      "execution_count": 32,
      "id": "dd2d217f",
      "metadata": {
        "id": "dd2d217f"
      },
      "outputs": [],
      "source": [
        "df_economic_indicator = df_economic_indicator.fillna(method=\"ffill\")"
      ]
    },
    {
      "cell_type": "code",
      "execution_count": 33,
      "id": "26e2838f",
      "metadata": {
        "id": "26e2838f"
      },
      "outputs": [],
      "source": [
        "df_economic_indicator = df_economic_indicator.dropna()"
      ]
    },
    {
      "cell_type": "code",
      "execution_count": 41,
      "id": "pzpGfB54CKkT",
      "metadata": {
        "id": "pzpGfB54CKkT"
      },
      "outputs": [],
      "source": [
        "df_economic_indicator.reset_index(inplace=True)"
      ]
    },
    {
      "cell_type": "code",
      "execution_count": 44,
      "id": "5608e1c6",
      "metadata": {
        "colab": {
          "base_uri": "https://localhost:8080/"
        },
        "id": "5608e1c6",
        "outputId": "4a18423b-5716-45f6-fe5c-f7c93bf0b933"
      },
      "outputs": [
        {
          "data": {
            "text/plain": [
              "{'paths': ['s3://ml-invest-bucket/financial_modeling_prep/1_economic_indicators/bdb8faf0bc864a66958cbf04b71d2946.snappy.parquet'],\n",
              " 'partitions_values': {}}"
            ]
          },
          "execution_count": 44,
          "metadata": {},
          "output_type": "execute_result"
        }
      ],
      "source": [
        "wr.s3.to_parquet(\n",
        "    df=df_economic_indicator,\n",
        "    path=raw_path + \"1_economic_indicators\",\n",
        "    dataset=True,\n",
        "    mode=\"overwrite\",\n",
        "    database=database,\n",
        "    table=\"1_economic_indicators\",\n",
        ")"
      ]
    },
    {
      "cell_type": "code",
      "execution_count": null,
      "id": "8PzhKX0jC6Yj",
      "metadata": {
        "id": "8PzhKX0jC6Yj"
      },
      "outputs": [],
      "source": []
    },
    {
      "cell_type": "markdown",
      "id": "e63df46f",
      "metadata": {
        "id": "e63df46f"
      },
      "source": [
        "#### Download Profile\n"
      ]
    },
    {
      "cell_type": "code",
      "execution_count": null,
      "id": "5c1a347b",
      "metadata": {
        "id": "5c1a347b"
      },
      "outputs": [],
      "source": [
        "# PROFILE\n",
        "\n",
        "\n",
        "df_profile_tot = pd.DataFrame()\n",
        "\n",
        "for ticker in tqdm(list_ticker):\n",
        "    profile = fa.profile(ticker, api_key).T\n",
        "\n",
        "    df_profile_tot = pd.concat([df_profile_tot, profile], ignore_index=True)\n",
        "\n",
        "\n",
        "wr.s3.to_parquet(\n",
        "    df=df_profile_tot,\n",
        "    path=raw_path + \"profile\",\n",
        "    dataset=True,\n",
        "    mode=\"overwrite\",\n",
        "    database=database,\n",
        "    table=\"1_profile\",\n",
        ")"
      ]
    },
    {
      "cell_type": "code",
      "execution_count": null,
      "id": "c8f68768",
      "metadata": {
        "id": "c8f68768",
        "outputId": "3fb9b371-ba92-46e7-883f-40b3df8b8202"
      },
      "outputs": [
        {
          "name": "stderr",
          "output_type": "stream",
          "text": [
            "100%|██████████| 5987/5987 [1:20:24<00:00,  1.24it/s]\n"
          ]
        },
        {
          "name": "stdout",
          "output_type": "stream",
          "text": [
            "Shape df cash_flow_statement: (201654, 40)\n",
            "Data updated: (201654, 40)\n"
          ]
        },
        {
          "name": "stderr",
          "output_type": "stream",
          "text": [
            "100%|██████████| 5987/5987 [1:27:15<00:00,  1.14it/s]\n"
          ]
        },
        {
          "name": "stdout",
          "output_type": "stream",
          "text": [
            "Shape df balance_sheet_statement: (200808, 54)\n",
            "Data updated: (200808, 54)\n"
          ]
        }
      ],
      "source": [
        "for table in tables:\n",
        "    print(table)\n",
        "\n",
        "    if limit != 0:\n",
        "        df_old = wr.s3.read_parquet_table(database=database, table=table)\n",
        "        print(f\"N. records table {table}: {df_old .shape}\")\n",
        "\n",
        "        unique_ticker = list(df_old[\"ticker\"].unique())\n",
        "\n",
        "        new_ticker = [\n",
        "            ticker for ticker in tqdm(list_ticker) if ticker not in unique_ticker\n",
        "        ]\n",
        "\n",
        "        print(f\"New ticker are {len(new_ticker)}\")\n",
        "    else:\n",
        "        new_ticker = []\n",
        "\n",
        "    df_new_statement = get_and_save_financial_statament_data_fmp(\n",
        "        download, table, list_ticker, new_ticker, save_file=save_file, limit=limit\n",
        "    )\n",
        "\n",
        "    print(f\"Data updated: {df_new_statement.shape}\")\n",
        "\n",
        "    # df_new_statement.columns = [col.lower() for col in df_new_statement.columns]\n",
        "    # df_new_statement = df_new_statement[df_old.columns]\n",
        "\n",
        "    if limit != 0:\n",
        "        df_new_statement = pd.concat([df_old, df_new_statement], ignore_index=False)\n",
        "\n",
        "        print(f\"Concat: {df_new_statement.shape}\")\n",
        "\n",
        "        # converto in int altrimenti non fa correttamete il sort\n",
        "        df_new_statement[\"calendaryear\"] = df_new_statement[\"calendaryear\"].astype(\n",
        "            np.int64\n",
        "        )\n",
        "\n",
        "        df_new_statement = df_new_statement.drop_duplicates(\n",
        "            [\"ticker\", \"calendaryear\", \"period\"], keep=\"last\"\n",
        "        )\n",
        "\n",
        "        print(f\"drop_duplicates: {df_new_statement.shape}\")\n",
        "\n",
        "        df_new_statement = df_new_statement.sort_values(\n",
        "            [\"ticker\", \"calendaryear\", \"period\"]\n",
        "        ).reset_index(drop=True)\n",
        "\n",
        "        for col, type in dict(df_old.dtypes).items():\n",
        "            df_new_statement[col] = df_new_statement[col].astype(type)\n",
        "\n",
        "    wr.s3.to_parquet(\n",
        "        df=df_new_statement,\n",
        "        path=raw_path + table,\n",
        "        dataset=True,\n",
        "        mode=\"overwrite\",\n",
        "        database=database,\n",
        "        table=table,\n",
        "    )"
      ]
    },
    {
      "cell_type": "code",
      "execution_count": null,
      "id": "90999837",
      "metadata": {
        "id": "90999837",
        "outputId": "4c96cc75-79ba-42cc-d601-8e715d35105a"
      },
      "outputs": [
        {
          "data": {
            "text/plain": [
              "{'paths': ['s3://ml-invest-bucket/financial_modeling_prep/income_statement/c55b5509a6f34d309834380d05384a43.snappy.parquet'],\n",
              " 'partitions_values': {}}"
            ]
          },
          "execution_count": 42,
          "metadata": {},
          "output_type": "execute_result"
        }
      ],
      "source": [
        "wr.s3.to_parquet(\n",
        "    df=df_new_statement,\n",
        "    path=raw_path + table,\n",
        "    dataset=True,\n",
        "    mode=\"overwrite\",\n",
        "    database=database,\n",
        "    table=table,\n",
        ")"
      ]
    },
    {
      "cell_type": "code",
      "execution_count": null,
      "id": "10aed448",
      "metadata": {
        "id": "10aed448"
      },
      "outputs": [],
      "source": []
    },
    {
      "cell_type": "code",
      "execution_count": null,
      "id": "b2bda1e1",
      "metadata": {
        "id": "b2bda1e1"
      },
      "outputs": [],
      "source": [
        "df_new_statement = df_new_statement[df_new_statement[\"accepteddate\"] >= \"2000-01-01\"]"
      ]
    },
    {
      "cell_type": "code",
      "execution_count": null,
      "id": "46490e20",
      "metadata": {
        "id": "46490e20"
      },
      "outputs": [],
      "source": []
    },
    {
      "cell_type": "code",
      "execution_count": null,
      "id": "d9b1c663",
      "metadata": {
        "id": "d9b1c663"
      },
      "outputs": [],
      "source": []
    },
    {
      "cell_type": "code",
      "execution_count": null,
      "id": "661377f2",
      "metadata": {
        "id": "661377f2",
        "outputId": "cbd8d9f0-7858-4be4-f97d-20d3265c838a"
      },
      "outputs": [
        {
          "name": "stdout",
          "output_type": "stream",
          "text": [
            "N. records table daily_price: (10607642, 5)\n"
          ]
        },
        {
          "ename": "NameError",
          "evalue": "name 'list_ticker' is not defined",
          "output_type": "error",
          "traceback": [
            "\u001b[0;31m---------------------------------------------------------------------------\u001b[0m",
            "\u001b[0;31mNameError\u001b[0m                                 Traceback (most recent call last)",
            "Cell \u001b[0;32mIn[13], line 10\u001b[0m\n\u001b[1;32m      5\u001b[0m \u001b[39mprint\u001b[39m(\u001b[39mf\u001b[39m\u001b[39m\"\u001b[39m\u001b[39mN. records table \u001b[39m\u001b[39m{\u001b[39;00mtable\u001b[39m}\u001b[39;00m\u001b[39m: \u001b[39m\u001b[39m{\u001b[39;00mdf_old\u001b[39m \u001b[39m\u001b[39m.\u001b[39mshape\u001b[39m}\u001b[39;00m\u001b[39m\"\u001b[39m)\n\u001b[1;32m      7\u001b[0m unique_ticker \u001b[39m=\u001b[39m \u001b[39mlist\u001b[39m(df_old[\u001b[39m'\u001b[39m\u001b[39mticker\u001b[39m\u001b[39m'\u001b[39m]\u001b[39m.\u001b[39munique())\n\u001b[0;32m---> 10\u001b[0m new_ticker \u001b[39m=\u001b[39m [ticker \u001b[39mfor\u001b[39;00m ticker \u001b[39min\u001b[39;00m tqdm(list_ticker) \u001b[39mif\u001b[39;00m ticker \u001b[39mnot\u001b[39;00m \u001b[39min\u001b[39;00m unique_ticker]\n",
            "\u001b[0;31mNameError\u001b[0m: name 'list_ticker' is not defined"
          ]
        }
      ],
      "source": [
        "today = date.today().strftime(\"%Y-%m-%d\")\n",
        "table = \"daily_price\"\n",
        "\n",
        "df_old = wr.s3.read_parquet_table(database=database, table=table)\n",
        "print(f\"N. records table {table}: {df_old .shape}\")\n",
        "\n",
        "unique_ticker = list(df_old[\"ticker\"].unique())\n",
        "\n",
        "\n",
        "new_ticker = [ticker for ticker in tqdm(list_ticker) if ticker not in unique_ticker]"
      ]
    },
    {
      "cell_type": "code",
      "execution_count": null,
      "id": "86229219",
      "metadata": {
        "id": "86229219",
        "outputId": "2bb5ccd0-0945-4696-cd9c-f0a09c9d4ef2"
      },
      "outputs": [
        {
          "name": "stdout",
          "output_type": "stream",
          "text": [
            "Shape df index hist_price: (5801, 14)\n"
          ]
        },
        {
          "name": "stderr",
          "output_type": "stream",
          "text": [
            "100%|██████████| 5987/5987 [4:04:00<00:00,  2.45s/it]  \n"
          ]
        },
        {
          "name": "stdout",
          "output_type": "stream",
          "text": [
            "Shape df hist_price: (13118647, 14)\n"
          ]
        }
      ],
      "source": [
        "df_index_price = get_index_hist_price(True, \"2000-01-01\", today)\n",
        "df_price = get_hist_price(True, list_ticker, [], \"2000-01-01\", today)"
      ]
    },
    {
      "cell_type": "code",
      "execution_count": null,
      "id": "0b5ffdec",
      "metadata": {
        "id": "0b5ffdec",
        "outputId": "867b04d0-a6c4-4931-ceba-32a1fe53dc51"
      },
      "outputs": [
        {
          "name": "stdout",
          "output_type": "stream",
          "text": [
            "Shape df index hist_price: (5805, 14)\n"
          ]
        }
      ],
      "source": [
        "df_index_price = get_index_hist_price(True, \"2000-01-01\", today)"
      ]
    },
    {
      "cell_type": "code",
      "execution_count": null,
      "id": "b3018395",
      "metadata": {
        "id": "b3018395"
      },
      "outputs": [],
      "source": [
        "df_price = pd.read_csv(\"data/financial_model_prep/hist_price_20230124.csv\")"
      ]
    },
    {
      "cell_type": "code",
      "execution_count": null,
      "id": "4802b835",
      "metadata": {
        "id": "4802b835"
      },
      "outputs": [],
      "source": [
        "df_price[\"date\"] = pd.to_datetime(df_price[\"date\"])"
      ]
    },
    {
      "cell_type": "code",
      "execution_count": null,
      "id": "3cc0a283",
      "metadata": {
        "id": "3cc0a283"
      },
      "outputs": [],
      "source": [
        "df_price_fin = df_price[df_price[\"date\"] >= \"2000-01-01\"]"
      ]
    },
    {
      "cell_type": "code",
      "execution_count": null,
      "id": "c11235e9",
      "metadata": {
        "id": "c11235e9"
      },
      "outputs": [],
      "source": []
    },
    {
      "cell_type": "code",
      "execution_count": null,
      "id": "0e67ca23",
      "metadata": {
        "id": "0e67ca23"
      },
      "outputs": [],
      "source": [
        "df_price_fin.rename(columns={\"symbol\": \"ticker\"}, inplace=True)\n",
        "# df_index_price.rename(columns = {\"symbol\":\"ticker\"}, inplace=True)"
      ]
    },
    {
      "cell_type": "code",
      "execution_count": null,
      "id": "272dcb89",
      "metadata": {
        "id": "272dcb89"
      },
      "outputs": [],
      "source": [
        "# df_price = df_price[['ticker','date', 'adjClose', ,'unadjustedVolume','changePercent', 'vwap']]\n",
        "# df_index_price = df_index_price[['ticker','date', 'adjClose', 'unadjustedVolume', 'vwap']]"
      ]
    },
    {
      "cell_type": "code",
      "execution_count": null,
      "id": "a6da1387",
      "metadata": {
        "id": "a6da1387",
        "outputId": "b788ac7a-c098-4d4c-89e8-5f7177bea24d"
      },
      "outputs": [
        {
          "data": {
            "text/plain": [
              "{'paths': ['s3://ml-invest-bucket/financial_modeling_prep/daily_price/31f62a43bcaf469ca1b5c9cb4916525d.snappy.parquet'],\n",
              " 'partitions_values': {}}"
            ]
          },
          "execution_count": 24,
          "metadata": {},
          "output_type": "execute_result"
        }
      ],
      "source": [
        "wr.s3.to_parquet(\n",
        "    df=df_price_fin,\n",
        "    path=raw_path + \"daily_price\",\n",
        "    dataset=True,\n",
        "    mode=\"overwrite\",\n",
        "    database=database,\n",
        "    table=\"daily_price\",\n",
        ")"
      ]
    },
    {
      "cell_type": "code",
      "execution_count": null,
      "id": "3f68759e",
      "metadata": {
        "id": "3f68759e",
        "outputId": "7e6b2df9-93bf-44cb-f46c-159e20526839"
      },
      "outputs": [
        {
          "data": {
            "text/plain": [
              "{'paths': ['s3://ml-invest-bucket/financial_modeling_prep/daily_index_price/8001250962ec4b2faa86760ede7abcbc.snappy.parquet'],\n",
              " 'partitions_values': {}}"
            ]
          },
          "execution_count": 12,
          "metadata": {},
          "output_type": "execute_result"
        }
      ],
      "source": [
        "wr.s3.to_parquet(\n",
        "    df=df_index_price,\n",
        "    path=raw_path + \"daily_index_price\",\n",
        "    dataset=True,\n",
        "    mode=\"overwrite\",\n",
        "    database=database,\n",
        "    table=\"daily_index_price\",\n",
        ")"
      ]
    },
    {
      "cell_type": "code",
      "execution_count": null,
      "id": "3533f688",
      "metadata": {
        "id": "3533f688"
      },
      "outputs": [],
      "source": []
    }
  ],
  "metadata": {
    "colab": {
      "provenance": []
    },
    "jupytext": {
      "formats": "ipynb,py"
    },
    "kernelspec": {
      "display_name": "ml_invest_2",
      "language": "python",
      "name": "python3"
    },
    "language_info": {
      "codemirror_mode": {
        "name": "ipython",
        "version": 3
      },
      "file_extension": ".py",
      "mimetype": "text/x-python",
      "name": "python",
      "nbconvert_exporter": "python",
      "pygments_lexer": "ipython3",
      "version": "3.10.13"
    },
    "vscode": {
      "interpreter": {
        "hash": "be680325277e01ed5e7c801e57c7ef158c56431991017298004c094e5e5f5081"
      }
    }
  },
  "nbformat": 4,
  "nbformat_minor": 5
}
